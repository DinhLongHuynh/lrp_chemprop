{
 "cells": [
  {
   "cell_type": "markdown",
   "metadata": {},
   "source": [
    "# **Single-call**\n",
    "\n",
    "When you have a small number of compounds, a single-call for each compound can work effectively"
   ]
  },
  {
   "cell_type": "markdown",
   "metadata": {},
   "source": [
    "import requests"
   ]
  },
  {
   "cell_type": "code",
   "execution_count": null,
   "metadata": {
    "vscode": {
     "languageId": "plaintext"
    }
   },
   "outputs": [],
   "source": [
    "cids_list = [10339994, 10807095, 5330258] \n",
    "\n",
    "def SmilesFromCID(cids_list):\n",
    "    results = {'cids': [], 'smiles': []}\n",
    "\n",
    "    base_url = 'https://pubchem.ncbi.nlm.nih.gov/rest/pug/compound/cid/{}/property/CanonicalSMILES/JSON'\n",
    "    for cid in cids_list:\n",
    "        url = base_url.format(cid)\n",
    "        response = requests.get(url)\n",
    "        if response.status_code == 200:\n",
    "            data = response.json()\n",
    "            smiles = data[\"PropertyTable\"][\"Properties\"][0][\"CanonicalSMILES\"]\n",
    "            results['cids'].append(cid)\n",
    "            results['smiles'].append(smiles)\n",
    "        else:\n",
    "            print(f\"Failed to retrieve SMILES for CID {cid}\")\n",
    "        \n",
    "    return results"
   ]
  },
  {
   "cell_type": "markdown",
   "metadata": {},
   "source": [
    "# **Batch-call**\n",
    "When you have a large dataset, around hundred thousand compounds, a single-call are repeated many times and pontentially reach the API call limit of PubChem. Therefore, the batch-call is the more efficient approach in this case. "
   ]
  },
  {
   "cell_type": "code",
   "execution_count": null,
   "metadata": {
    "vscode": {
     "languageId": "plaintext"
    }
   },
   "outputs": [],
   "source": [
    "# cids_list contains hundreds thousand compounds\n",
    "\n",
    "def SmilesFromCID_batch(cids_list, batch_size=50):\n",
    "    results = {'smiles': [], 'cids': []}\n",
    "\n",
    "    base_url = \"https://pubchem.ncbi.nlm.nih.gov/rest/pug/compound/cid/property/CanonicalSMILES/JSON\"\n",
    "    for i in range(0, len(cids), batch_size):\n",
    "        batch = cids[i:i+batch_size]\n",
    "        try:\n",
    "            response = requests.post(base_url, data={\"cid\": \",\".join(map(str, batch))}, timeout=10)\n",
    "\n",
    "            if response.status_code == 200:\n",
    "                data = response.json()\n",
    "                for prop in data[\"PropertyTable\"][\"Properties\"]:\n",
    "                    smiles_list['smiles'].append(prop[\"CanonicalSMILES\"])\n",
    "                    smiles_list['cids'].append(prop[\"CID\"])\n",
    "                print(f\"Batch {i//batch_size + 1}: Success ({len(batch)} compounds)\") \n",
    "            else:\n",
    "                print(f\"Batch {i//batch_size + 1}: Failed with status {response.status_code}\")\n",
    "\n",
    "        except requests.exceptions.RequestException as e:\n",
    "            print(f\"Batch {i//batch_size + 1}: Request failed - {e}\")\n",
    "            break \n",
    "\n",
    "        time.sleep(1.5)  # Small delay between batches to prevent rate limits\n",
    "\n",
    "    return smiles_list\n",
    "\n"
   ]
  }
 ],
 "metadata": {
  "language_info": {
   "name": "python"
  }
 },
 "nbformat": 4,
 "nbformat_minor": 2
}
