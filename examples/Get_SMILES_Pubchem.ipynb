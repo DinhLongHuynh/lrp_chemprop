{
 "cells": [
  {
   "cell_type": "code",
   "execution_count": null,
   "metadata": {
    "vscode": {
     "languageId": "plaintext"
    }
   },
   "outputs": [],
   "source": [
    "import requests\n",
    "\n",
    "cids = [10339994, 10807095, 5330258] \n",
    "smiles_list = []\n",
    "\n",
    "def SmilesFromCID(cids):\n",
    "    base_url = 'https://pubchem.ncbi.nlm.nih.gov/rest/pug/compound/cid/{}/property/CanonicalSMILES/JSON'\n",
    "    for cid in cids:\n",
    "        url = base_url.format(cid)\n",
    "        response = requests.get(url)\n",
    "        if response.status_code == 200:\n",
    "            data = response.json()\n",
    "            smiles = data[\"PropertyTable\"][\"Properties\"][0][\"CanonicalSMILES\"]\n",
    "            smiles_list.append(smiles)\n",
    "        else:\n",
    "            print(f\"Failed to retrieve SMILES for CID {cid}\")"
   ]
  }
 ],
 "metadata": {
  "language_info": {
   "name": "python"
  }
 },
 "nbformat": 4,
 "nbformat_minor": 2
}
